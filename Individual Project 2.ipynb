{
 "cells": [
  {
   "cell_type": "markdown",
   "metadata": {},
   "source": [
    "# INSY446 Data Mining for Business Analytics\n",
    "## Individual Project 2"
   ]
  },
  {
   "cell_type": "markdown",
   "metadata": {},
   "source": [
    "Your Name: \n",
    "\n",
    "Your McGill ID: "
   ]
  },
  {
   "cell_type": "markdown",
   "metadata": {},
   "source": [
    "---\n",
    "## Plagiarism and Code Copying\n",
    "- Projects are checked for plagiarism\n",
    "- Copying code from your classmates will result in 0 points for all involved\n",
    "- Copying from the materials from me or online sources (Stack overflow, tutorials, etc. ) is fine\n"
   ]
  },
  {
   "cell_type": "markdown",
   "metadata": {},
   "source": [
    "### Part 1: Planning **`[`*`20 points`*`]`**\n",
    "1\\. Plumbing Inc. has been selling plumbing supplies for the last 20 years. The owner, Joe, decides that next year it is finally time to diversify by adding gardening tools to his products. Having had success using customer data to build predictive models to guide direct mail campaigns for special plumbing offers, he considers that data mining could help him to identify a subset of customers who should be good prospects for his new set of products. Is Joe ready to solve this as a supervised learning problem? What would you suggest as the target variable? Be precise. Is there anything else that you would recommend that Joe do to achieve his business goal? "
   ]
  },
  {
   "cell_type": "markdown",
   "metadata": {},
   "source": [
    "**`[`*`Answer`*`]`**"
   ]
  },
  {
   "cell_type": "markdown",
   "metadata": {},
   "source": [
    "***"
   ]
  },
  {
   "cell_type": "markdown",
   "metadata": {},
   "source": [
    "### Part 2: Evaluation Metrics **`[`*`20 points`*`]`**\n",
    "Answer each of the following questions. Please be precise by concise."
   ]
  },
  {
   "cell_type": "markdown",
   "metadata": {},
   "source": [
    "1\\. What are the problems with using accuracy to evaluate a model? **`[`*`5 points`*`]`**"
   ]
  },
  {
   "cell_type": "markdown",
   "metadata": {},
   "source": [
    "**`[`*`Answer`*`]`**"
   ]
  },
  {
   "cell_type": "markdown",
   "metadata": {},
   "source": [
    "2\\. How does a modeler determine the costs and benefits of particular people and actions? Once they have this data they can build a cost/benefit matrix. What type of computation can they do to help them determine if they are making a good business decision? **`[`*`7 points`*`]`**"
   ]
  },
  {
   "cell_type": "markdown",
   "metadata": {},
   "source": [
    "**`[`*`Answer`*`]`**"
   ]
  },
  {
   "cell_type": "markdown",
   "metadata": {},
   "source": [
    "3\\. Consider two different ROC curves:\n",
    "\n",
    "- a line that goes from point (0, 0) to (1, 1), i.e., a 45-degreee line\n",
    "- a curve that goes from point (0, 0) to (0, 1) and then to (1, 1), i.e. a sharp 90-degree corner\n",
    "\n",
    "What is the area under each curve? What can you say about the ranking of all the records by their probability? Which of these is more desirable? **`[`*`8 points`*`]`**"
   ]
  },
  {
   "cell_type": "markdown",
   "metadata": {},
   "source": [
    "**`[`*`Answer`*`]`**"
   ]
  },
  {
   "cell_type": "markdown",
   "metadata": {},
   "source": [
    "***"
   ]
  },
  {
   "cell_type": "markdown",
   "metadata": {},
   "source": [
    "### Part 3. Hands-on **`[`*`60 points`*`]`**"
   ]
  },
  {
   "cell_type": "markdown",
   "metadata": {},
   "source": [
    "For your hands-on excercise, I am going to ask you to build two ROC curves. For this example we will be using the `data/cell2cell.csv` data.\n",
    "\n",
    "These historical data consist of 31,892 customers: 15,855 customers that churned (i.e., left the company) and 16,036 that did not churn. Here are the data set's 12 columns:\n",
    "\n",
    "```\n",
    "Col.  Var. Name  Var. Description\n",
    "----- ---------- --------------------------------------------------------------\n",
    "1     revenue    Mean monthly revenue in dollars\n",
    "2     outcalls   Mean number of outbound voice calls\n",
    "3     incalls    Mean number of inbound voice calls\n",
    "4     months     Months in Service\n",
    "5     eqpdays    Number of days the customer has had his/her current equipment\n",
    "6     webcap     Handset is web capable\n",
    "7     marryyes   Married (1=Yes; 0=No)\n",
    "8     travel     Has traveled to non-US country (1=Yes; 0=No)\n",
    "9     pcown      Owns a personal computer (1=Yes; 0=No)\n",
    "10    creditcd   Possesses a credit card (1=Yes; 0=No)\n",
    "11    retcalls   Number of calls previously made to retention team\n",
    "12    churndep   Did the customer churn (1=Yes; 0=No)\n",
    "```\n",
    "\n",
    "The first 11 columns are our attributes/features. The last column, `\"churndep\"`, is the target variable."
   ]
  },
  {
   "cell_type": "markdown",
   "metadata": {},
   "source": [
    "1\\. For this part you should **`[`*`30 points`*`]`**:\n",
    "- Randomly assign 75% of your data into training and the remaining 25% into test (we are not using cross-validation here since it is slightly more difficult to implement).\n",
    "- Train a logistic regression model and use the test data to get the data to create an ROC curve.\n",
    "- Train a decision tree model (`criterion=\"entropy\"`) and use the test data to get the data to create an ROC curve.\n",
    "- Plot both ROC curves on one plot (don't forget a legend so I can tell which curve is which)\n",
    "- Discuss your observations of the ROC curves above. Are they similar? How well are they doing? Do you like one more than the other?"
   ]
  },
  {
   "cell_type": "markdown",
   "metadata": {},
   "source": [
    "**`[`*`Answer`*`]`**"
   ]
  },
  {
   "cell_type": "code",
   "execution_count": null,
   "metadata": {
    "collapsed": true
   },
   "outputs": [],
   "source": [
    "# import libraries\n",
    "\n",
    "# Read in our csv data\n",
    "\n",
    "# Put all features into X and the target variable into Y\n",
    "\n",
    "# Split the data into 75% training and 25% testing\n",
    "\n",
    "# Create both models\n",
    "\n",
    "# Fit both models\n",
    "\n",
    "# Get probabilities for each model on the test data\n",
    "\n",
    "# Get TPR and FPR for each model\n",
    "    \n",
    "# Plot two ROC curves on one plot. Don't forget labels and your legend\n"
   ]
  },
  {
   "cell_type": "markdown",
   "metadata": {},
   "source": [
    "2\\. These models are using their default complexity parameters (the decision tree can be very large and the logistic regression has no regularization). To pick the *best* model, please use hyperparameter tunining for logistic regression and decision tree model. Plot ROC curves for the *best* model on the same plot together with the two plots from above  **[*30 points*]**."
   ]
  },
  {
   "cell_type": "markdown",
   "metadata": {},
   "source": [
    "**`[`*`Answer`*`]`**"
   ]
  }
 ],
 "metadata": {
  "kernelspec": {
   "display_name": "Python 3",
   "language": "python",
   "name": "python3"
  },
  "language_info": {
   "codemirror_mode": {
    "name": "ipython",
    "version": 3
   },
   "file_extension": ".py",
   "mimetype": "text/x-python",
   "name": "python",
   "nbconvert_exporter": "python",
   "pygments_lexer": "ipython3",
   "version": "3.8.5"
  }
 },
 "nbformat": 4,
 "nbformat_minor": 1
}
